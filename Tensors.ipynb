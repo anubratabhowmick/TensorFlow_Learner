{
 "cells": [
  {
   "cell_type": "markdown",
   "metadata": {},
   "source": [
    "## Tensors"
   ]
  },
  {
   "cell_type": "markdown",
   "metadata": {},
   "source": [
    "A tensor is a generalization of vectors and matrices to potentially higher dimensions. Internally, TensorFlow represented tensors as n-dimensional arrays of base datatypes.[https://www.tensorflow.org/api_docs/python/tf/Tensor]\n",
    "<br><br>\n",
    "They are the main objects that are passed around and manipulated throughout the program. Each tensor represents a partially defined computation that will eventually produce a value. TensorFlow programs work by building a graph of Tensor objects that detail how tensors are related. Running different parts of the graph allow results to be generated.\n",
    "<br><br>\n",
    "Each tensor has a datatype and a shape<br>\n",
    "<b>Data Types:</b> int32, float32, string, etc.<br>\n",
    "<b>Shape:</b> Represents the dimensions of the data<br>"
   ]
  },
  {
   "cell_type": "code",
   "execution_count": 2,
   "metadata": {},
   "outputs": [],
   "source": [
    "## Import necessary libraries\n",
    "\n",
    "import tensorflow as tf"
   ]
  },
  {
   "cell_type": "markdown",
   "metadata": {},
   "source": [
    "## Creating Tensors\n",
    "\n",
    "### Below is an example for creating different tensors"
   ]
  },
  {
   "cell_type": "code",
   "execution_count": 3,
   "metadata": {},
   "outputs": [],
   "source": [
    "string_tensor = tf.Variable(\"This is a tensor\", tf.string)\n",
    "number_tensor = tf.Variable(7, tf.int32)\n",
    "floating_tensor = tf.Variable(3.141, tf.float64)"
   ]
  },
  {
   "cell_type": "markdown",
   "metadata": {},
   "source": [
    "## Rank/Degree of Tensors"
   ]
  },
  {
   "cell_type": "markdown",
   "metadata": {},
   "source": [
    "Another word for rank is degree, which simply means the number of dimensions involved in the tensor. What we created above is a tensor of rank 0, also known as scalar.\n",
    "<br><br>\n",
    "Now, we will create some tensors of higher degrees/ranks."
   ]
  },
  {
   "cell_type": "code",
   "execution_count": 4,
   "metadata": {},
   "outputs": [],
   "source": [
    "rank1_tensor = tf.Variable(['test'], tf.string)\n",
    "rank2_tensor = tf.Variable([['test', 'ok'], ['test', 'not ok']], tf.string)"
   ]
  },
  {
   "cell_type": "markdown",
   "metadata": {},
   "source": [
    "To determine the <b>rank</b> of a tensor, we can call the following method"
   ]
  },
  {
   "cell_type": "code",
   "execution_count": 9,
   "metadata": {},
   "outputs": [
    {
     "data": {
      "text/plain": [
       "<tf.Tensor 'Rank_4:0' shape=() dtype=int32>"
      ]
     },
     "execution_count": 9,
     "metadata": {},
     "output_type": "execute_result"
    }
   ],
   "source": [
    "tf.rank(rank2_tensor)"
   ]
  },
  {
   "cell_type": "markdown",
   "metadata": {},
   "source": [
    "## Shape of Tensors"
   ]
  },
  {
   "cell_type": "markdown",
   "metadata": {},
   "source": [
    "Now that we've talked about the rank of tensors, it's time to talk about the shape. The shape of a tensor is simply the amount of elements that exist in each dimension. TensorFlow will try to determine the shape of a tensor but sometimes it maybe unknown.\n",
    "<br><br>\n",
    "To <b>get the shape</b> of a tensor, we use the shape attribute"
   ]
  },
  {
   "cell_type": "code",
   "execution_count": 11,
   "metadata": {},
   "outputs": [
    {
     "data": {
      "text/plain": [
       "TensorShape([Dimension(2), Dimension(2)])"
      ]
     },
     "execution_count": 11,
     "metadata": {},
     "output_type": "execute_result"
    }
   ],
   "source": [
    "rank2_tensor.shape"
   ]
  },
  {
   "cell_type": "markdown",
   "metadata": {},
   "source": [
    "## Changing Shape"
   ]
  },
  {
   "cell_type": "markdown",
   "metadata": {},
   "source": [
    "The number of elements of a tensor is the product of the sizes of all its shapes. There are often many shapes that have the same number of elements, making it convenient to be able to change the shape of a tensor.\n",
    "<br><br>\n",
    "The example below shows how to change the shape of a tensor"
   ]
  },
  {
   "cell_type": "code",
   "execution_count": 12,
   "metadata": {},
   "outputs": [],
   "source": [
    "tensor1 = tf.ones([1, 2, 3]) # creates a shape of [1,2,3] with all ones\n",
    "tensor2 = tf.reshape(tensor1, [2, 3, 1]) # reshapes existing shape to [2,3,1]\n",
    "tensor3 = tf.reshape(tensor1, [3, -1]) # -1 tells the tensor to calculate the size of dimension in that place\n",
    "\n",
    "# The number of elements in the reshaped tensor must match the numbers in the original"
   ]
  },
  {
   "cell_type": "code",
   "execution_count": 13,
   "metadata": {},
   "outputs": [
    {
     "name": "stdout",
     "output_type": "stream",
     "text": [
      "Tensor(\"ones:0\", shape=(1, 2, 3), dtype=float32)\n",
      "Tensor(\"Reshape:0\", shape=(2, 3, 1), dtype=float32)\n",
      "Tensor(\"Reshape_1:0\", shape=(3, 2), dtype=float32)\n"
     ]
    }
   ],
   "source": [
    "print(tensor1)\n",
    "print(tensor2)\n",
    "print(tensor3)"
   ]
  },
  {
   "cell_type": "markdown",
   "metadata": {},
   "source": [
    "## Types of Tensors"
   ]
  },
  {
   "cell_type": "markdown",
   "metadata": {},
   "source": [
    "There are different types of tensors. These are the most commonly used and we will talk more in depth about each as they are used\n",
    "<br>\n",
    " - Variable\n",
    " - Constant\n",
    " - Placeholder\n",
    " - SparseTensor\n",
    "<br><br>\n",
    "With the exception of <b>Variable</b>, all of these tensors are immutable meaning their value may not change during execution.<br>\n",
    "For now, it is sufficient to understand that we use the Variable tensor when we want to potentially change the value of our tensor."
   ]
  },
  {
   "cell_type": "markdown",
   "metadata": {},
   "source": [
    "## Evaluating Tensors"
   ]
  },
  {
   "cell_type": "markdown",
   "metadata": {},
   "source": [
    "There will be some times throughout this guide that we need to evaluate a Tensor. In other words, get its value. Since tensors represent a partially complete computation, we will sometimes need to run what's called  a _session_ to evaluate the tensor.\n",
    "<br><br>\n",
    "There are many different ways to achieve this, but the simplest one is shown below"
   ]
  },
  {
   "cell_type": "code",
   "execution_count": 16,
   "metadata": {},
   "outputs": [],
   "source": [
    "with tf.Session() as sess: # create a session using the default graph\n",
    "    tensor1.eval() # <tensor_name> "
   ]
  },
  {
   "cell_type": "markdown",
   "metadata": {},
   "source": [
    "In the code above, we evaluated the tensor1 variable that was stored in the __default graph__. The default graph holds all operations not specified to any other graph. It is possible to create our own separate graphs but for now, we will stick with the default."
   ]
  },
  {
   "cell_type": "markdown",
   "metadata": {},
   "source": [
    "## Sources\n",
    "\n",
    "### Most of the information is taken from the [website](https://www.tensorflow.org/api_docs/python/tf/Tensor)"
   ]
  }
 ],
 "metadata": {
  "kernelspec": {
   "display_name": "Python 3",
   "language": "python",
   "name": "python3"
  },
  "language_info": {
   "codemirror_mode": {
    "name": "ipython",
    "version": 3
   },
   "file_extension": ".py",
   "mimetype": "text/x-python",
   "name": "python",
   "nbconvert_exporter": "python",
   "pygments_lexer": "ipython3",
   "version": "3.7.4"
  }
 },
 "nbformat": 4,
 "nbformat_minor": 2
}
